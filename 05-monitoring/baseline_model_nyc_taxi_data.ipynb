{
 "cells": [
  {
   "cell_type": "markdown",
   "id": "edab3cd3-e5a8-4b63-8b8d-c9ef758571b8",
   "metadata": {},
   "source": [
    "# Baseline model for batch monitoring example"
   ]
  },
  {
   "cell_type": "code",
   "execution_count": 1,
   "id": "b54264e6eb117908",
   "metadata": {},
   "outputs": [],
   "source": [
    "import requests\n",
    "import datetime\n",
    "import pandas as pd\n",
    "\n",
    "from evidently import DataDefinition\n",
    "from evidently import Dataset\n",
    "from evidently import Report\n",
    "from evidently.metrics import ValueDrift, DriftedColumnsCount, MissingValueCount\n",
    "\n",
    "from joblib import load, dump\n",
    "from tqdm import tqdm\n",
    "\n",
    "from sklearn.linear_model import LinearRegression\n",
    "from sklearn.metrics import mean_absolute_error, mean_absolute_percentage_error"
   ]
  },
  {
   "cell_type": "code",
   "execution_count": 2,
   "id": "46aeb5ac-bfb7-4fe4-b732-6bf372ba2e95",
   "metadata": {},
   "outputs": [],
   "source": [
    "!mkdir -p data"
   ]
  },
  {
   "cell_type": "code",
   "execution_count": 3,
   "id": "c935a6bc588248d7",
   "metadata": {},
   "outputs": [
    {
     "name": "stdout",
     "output_type": "stream",
     "text": [
      "Download files:\n"
     ]
    },
    {
     "name": "stderr",
     "output_type": "stream",
     "text": [
      "green_tripdata_2024-03.parquet: 100%|██████████| 1372372/1372372 [00:22<00:00, 60968.43it/s, save to ./data/green_tripdata_2024-03.parquet]\n"
     ]
    }
   ],
   "source": [
    "files = [('green_tripdata_2024-03.parquet', './data')]\n",
    "\n",
    "print(\"Download files:\")\n",
    "for file, path in files:\n",
    "    url=f\"https://d37ci6vzurychx.cloudfront.net/trip-data/{file}\"\n",
    "    resp=requests.get(url, stream=True)\n",
    "    save_path=f\"{path}/{file}\"\n",
    "    with open(save_path, \"wb\") as handle:\n",
    "        for data in tqdm(resp.iter_content(),\n",
    "                        desc=f\"{file}\",\n",
    "                        postfix=f\"save to {save_path}\",\n",
    "                        total=int(resp.headers[\"Content-Length\"])):\n",
    "            handle.write(data)"
   ]
  },
  {
   "cell_type": "code",
   "execution_count": 4,
   "id": "10f4d69997668ea8",
   "metadata": {},
   "outputs": [],
   "source": [
    "mar_data = pd.read_parquet('data/green_tripdata_2024-03.parquet')"
   ]
  },
  {
   "cell_type": "code",
   "execution_count": null,
   "id": "755c48c29d032e40",
   "metadata": {},
   "outputs": [
    {
     "data": {
      "text/html": [
       "<div>\n",
       "<style scoped>\n",
       "    .dataframe tbody tr th:only-of-type {\n",
       "        vertical-align: middle;\n",
       "    }\n",
       "\n",
       "    .dataframe tbody tr th {\n",
       "        vertical-align: top;\n",
       "    }\n",
       "\n",
       "    .dataframe thead th {\n",
       "        text-align: right;\n",
       "    }\n",
       "</style>\n",
       "<table border=\"1\" class=\"dataframe\">\n",
       "  <thead>\n",
       "    <tr style=\"text-align: right;\">\n",
       "      <th></th>\n",
       "      <th>VendorID</th>\n",
       "      <th>lpep_pickup_datetime</th>\n",
       "      <th>lpep_dropoff_datetime</th>\n",
       "      <th>RatecodeID</th>\n",
       "      <th>PULocationID</th>\n",
       "      <th>DOLocationID</th>\n",
       "      <th>passenger_count</th>\n",
       "      <th>trip_distance</th>\n",
       "      <th>fare_amount</th>\n",
       "      <th>extra</th>\n",
       "      <th>mta_tax</th>\n",
       "      <th>tip_amount</th>\n",
       "      <th>tolls_amount</th>\n",
       "      <th>ehail_fee</th>\n",
       "      <th>improvement_surcharge</th>\n",
       "      <th>total_amount</th>\n",
       "      <th>payment_type</th>\n",
       "      <th>trip_type</th>\n",
       "      <th>congestion_surcharge</th>\n",
       "    </tr>\n",
       "  </thead>\n",
       "  <tbody>\n",
       "    <tr>\n",
       "      <th>count</th>\n",
       "      <td>57457.000000</td>\n",
       "      <td>57457</td>\n",
       "      <td>57457</td>\n",
       "      <td>55360.000000</td>\n",
       "      <td>57457.000000</td>\n",
       "      <td>57457.000000</td>\n",
       "      <td>55360.000000</td>\n",
       "      <td>57457.000000</td>\n",
       "      <td>57457.000000</td>\n",
       "      <td>57457.000000</td>\n",
       "      <td>57457.000000</td>\n",
       "      <td>57457.000000</td>\n",
       "      <td>57457.000000</td>\n",
       "      <td>0.0</td>\n",
       "      <td>57457.000000</td>\n",
       "      <td>57457.000000</td>\n",
       "      <td>55360.000000</td>\n",
       "      <td>55353.000000</td>\n",
       "      <td>55360.000000</td>\n",
       "    </tr>\n",
       "    <tr>\n",
       "      <th>mean</th>\n",
       "      <td>1.877334</td>\n",
       "      <td>2024-03-16 04:02:52.405399</td>\n",
       "      <td>2024-03-16 04:21:00.076039</td>\n",
       "      <td>1.179986</td>\n",
       "      <td>95.524688</td>\n",
       "      <td>138.629149</td>\n",
       "      <td>1.309538</td>\n",
       "      <td>13.522828</td>\n",
       "      <td>17.313474</td>\n",
       "      <td>0.904472</td>\n",
       "      <td>0.577410</td>\n",
       "      <td>2.386255</td>\n",
       "      <td>0.192537</td>\n",
       "      <td>NaN</td>\n",
       "      <td>0.979378</td>\n",
       "      <td>22.904832</td>\n",
       "      <td>1.321062</td>\n",
       "      <td>1.038047</td>\n",
       "      <td>0.737730</td>\n",
       "    </tr>\n",
       "    <tr>\n",
       "      <th>min</th>\n",
       "      <td>1.000000</td>\n",
       "      <td>2008-12-31 23:02:24</td>\n",
       "      <td>2008-12-31 23:02:30</td>\n",
       "      <td>1.000000</td>\n",
       "      <td>1.000000</td>\n",
       "      <td>1.000000</td>\n",
       "      <td>0.000000</td>\n",
       "      <td>0.000000</td>\n",
       "      <td>-295.080000</td>\n",
       "      <td>-2.500000</td>\n",
       "      <td>-0.500000</td>\n",
       "      <td>-1.560000</td>\n",
       "      <td>0.000000</td>\n",
       "      <td>NaN</td>\n",
       "      <td>-1.000000</td>\n",
       "      <td>-296.080000</td>\n",
       "      <td>1.000000</td>\n",
       "      <td>1.000000</td>\n",
       "      <td>-2.750000</td>\n",
       "    </tr>\n",
       "    <tr>\n",
       "      <th>25%</th>\n",
       "      <td>2.000000</td>\n",
       "      <td>2024-03-08 13:53:56</td>\n",
       "      <td>2024-03-08 14:13:49</td>\n",
       "      <td>1.000000</td>\n",
       "      <td>74.000000</td>\n",
       "      <td>74.000000</td>\n",
       "      <td>1.000000</td>\n",
       "      <td>1.100000</td>\n",
       "      <td>9.300000</td>\n",
       "      <td>0.000000</td>\n",
       "      <td>0.500000</td>\n",
       "      <td>0.000000</td>\n",
       "      <td>0.000000</td>\n",
       "      <td>NaN</td>\n",
       "      <td>1.000000</td>\n",
       "      <td>13.440000</td>\n",
       "      <td>1.000000</td>\n",
       "      <td>1.000000</td>\n",
       "      <td>0.000000</td>\n",
       "    </tr>\n",
       "    <tr>\n",
       "      <th>50%</th>\n",
       "      <td>2.000000</td>\n",
       "      <td>2024-03-15 22:49:01</td>\n",
       "      <td>2024-03-15 23:09:52</td>\n",
       "      <td>1.000000</td>\n",
       "      <td>75.000000</td>\n",
       "      <td>138.000000</td>\n",
       "      <td>1.000000</td>\n",
       "      <td>1.790000</td>\n",
       "      <td>13.500000</td>\n",
       "      <td>0.000000</td>\n",
       "      <td>0.500000</td>\n",
       "      <td>2.000000</td>\n",
       "      <td>0.000000</td>\n",
       "      <td>NaN</td>\n",
       "      <td>1.000000</td>\n",
       "      <td>18.500000</td>\n",
       "      <td>1.000000</td>\n",
       "      <td>1.000000</td>\n",
       "      <td>0.000000</td>\n",
       "    </tr>\n",
       "    <tr>\n",
       "      <th>75%</th>\n",
       "      <td>2.000000</td>\n",
       "      <td>2024-03-23 20:11:25</td>\n",
       "      <td>2024-03-23 20:34:48</td>\n",
       "      <td>1.000000</td>\n",
       "      <td>97.000000</td>\n",
       "      <td>220.000000</td>\n",
       "      <td>1.000000</td>\n",
       "      <td>3.100000</td>\n",
       "      <td>19.800000</td>\n",
       "      <td>1.000000</td>\n",
       "      <td>0.500000</td>\n",
       "      <td>3.610000</td>\n",
       "      <td>0.000000</td>\n",
       "      <td>NaN</td>\n",
       "      <td>1.000000</td>\n",
       "      <td>27.050000</td>\n",
       "      <td>2.000000</td>\n",
       "      <td>1.000000</td>\n",
       "      <td>2.750000</td>\n",
       "    </tr>\n",
       "    <tr>\n",
       "      <th>max</th>\n",
       "      <td>2.000000</td>\n",
       "      <td>2024-04-01 00:01:45</td>\n",
       "      <td>2024-04-01 16:11:00</td>\n",
       "      <td>99.000000</td>\n",
       "      <td>265.000000</td>\n",
       "      <td>265.000000</td>\n",
       "      <td>9.000000</td>\n",
       "      <td>125112.200000</td>\n",
       "      <td>841.600000</td>\n",
       "      <td>10.000000</td>\n",
       "      <td>4.250000</td>\n",
       "      <td>150.000000</td>\n",
       "      <td>26.760000</td>\n",
       "      <td>NaN</td>\n",
       "      <td>1.000000</td>\n",
       "      <td>856.980000</td>\n",
       "      <td>5.000000</td>\n",
       "      <td>2.000000</td>\n",
       "      <td>2.750000</td>\n",
       "    </tr>\n",
       "    <tr>\n",
       "      <th>std</th>\n",
       "      <td>0.328056</td>\n",
       "      <td>NaN</td>\n",
       "      <td>NaN</td>\n",
       "      <td>1.356719</td>\n",
       "      <td>57.285088</td>\n",
       "      <td>76.295346</td>\n",
       "      <td>0.967749</td>\n",
       "      <td>770.416255</td>\n",
       "      <td>14.958249</td>\n",
       "      <td>1.382446</td>\n",
       "      <td>0.366916</td>\n",
       "      <td>3.159273</td>\n",
       "      <td>1.184551</td>\n",
       "      <td>NaN</td>\n",
       "      <td>0.154253</td>\n",
       "      <td>17.013735</td>\n",
       "      <td>0.497858</td>\n",
       "      <td>0.191311</td>\n",
       "      <td>1.218039</td>\n",
       "    </tr>\n",
       "  </tbody>\n",
       "</table>\n",
       "</div>"
      ],
      "text/plain": [
       "           VendorID        lpep_pickup_datetime       lpep_dropoff_datetime  \\\n",
       "count  57457.000000                       57457                       57457   \n",
       "mean       1.877334  2024-03-16 04:02:52.405399  2024-03-16 04:21:00.076039   \n",
       "min        1.000000         2008-12-31 23:02:24         2008-12-31 23:02:30   \n",
       "25%        2.000000         2024-03-08 13:53:56         2024-03-08 14:13:49   \n",
       "50%        2.000000         2024-03-15 22:49:01         2024-03-15 23:09:52   \n",
       "75%        2.000000         2024-03-23 20:11:25         2024-03-23 20:34:48   \n",
       "max        2.000000         2024-04-01 00:01:45         2024-04-01 16:11:00   \n",
       "std        0.328056                         NaN                         NaN   \n",
       "\n",
       "         RatecodeID  PULocationID  DOLocationID  passenger_count  \\\n",
       "count  55360.000000  57457.000000  57457.000000     55360.000000   \n",
       "mean       1.179986     95.524688    138.629149         1.309538   \n",
       "min        1.000000      1.000000      1.000000         0.000000   \n",
       "25%        1.000000     74.000000     74.000000         1.000000   \n",
       "50%        1.000000     75.000000    138.000000         1.000000   \n",
       "75%        1.000000     97.000000    220.000000         1.000000   \n",
       "max       99.000000    265.000000    265.000000         9.000000   \n",
       "std        1.356719     57.285088     76.295346         0.967749   \n",
       "\n",
       "       trip_distance   fare_amount         extra       mta_tax    tip_amount  \\\n",
       "count   57457.000000  57457.000000  57457.000000  57457.000000  57457.000000   \n",
       "mean       13.522828     17.313474      0.904472      0.577410      2.386255   \n",
       "min         0.000000   -295.080000     -2.500000     -0.500000     -1.560000   \n",
       "25%         1.100000      9.300000      0.000000      0.500000      0.000000   \n",
       "50%         1.790000     13.500000      0.000000      0.500000      2.000000   \n",
       "75%         3.100000     19.800000      1.000000      0.500000      3.610000   \n",
       "max    125112.200000    841.600000     10.000000      4.250000    150.000000   \n",
       "std       770.416255     14.958249      1.382446      0.366916      3.159273   \n",
       "\n",
       "       tolls_amount  ehail_fee  improvement_surcharge  total_amount  \\\n",
       "count  57457.000000        0.0           57457.000000  57457.000000   \n",
       "mean       0.192537        NaN               0.979378     22.904832   \n",
       "min        0.000000        NaN              -1.000000   -296.080000   \n",
       "25%        0.000000        NaN               1.000000     13.440000   \n",
       "50%        0.000000        NaN               1.000000     18.500000   \n",
       "75%        0.000000        NaN               1.000000     27.050000   \n",
       "max       26.760000        NaN               1.000000    856.980000   \n",
       "std        1.184551        NaN               0.154253     17.013735   \n",
       "\n",
       "       payment_type     trip_type  congestion_surcharge  \n",
       "count  55360.000000  55353.000000          55360.000000  \n",
       "mean       1.321062      1.038047              0.737730  \n",
       "min        1.000000      1.000000             -2.750000  \n",
       "25%        1.000000      1.000000              0.000000  \n",
       "50%        1.000000      1.000000              0.000000  \n",
       "75%        2.000000      1.000000              2.750000  \n",
       "max        5.000000      2.000000              2.750000  \n",
       "std        0.497858      0.191311              1.218039  "
      ]
     },
     "execution_count": 5,
     "metadata": {},
     "output_type": "execute_result"
    }
   ],
   "source": [
    "mar_data.describe()  "
   ]
  },
  {
   "cell_type": "code",
   "execution_count": null,
   "id": "abc417723077a646",
   "metadata": {},
   "outputs": [
    {
     "data": {
      "text/plain": [
       "(57457, 20)"
      ]
     },
     "execution_count": 6,
     "metadata": {},
     "output_type": "execute_result"
    }
   ],
   "source": [
    "mar_data.shape  # Hw 1"
   ]
  },
  {
   "cell_type": "code",
   "execution_count": null,
   "id": "281a27332b636f09",
   "metadata": {},
   "outputs": [],
   "source": [
    "# create target\n",
    "jan_data[\"duration_min\"] = jan_data.lpep_dropoff_datetime - jan_data.lpep_pickup_datetime\n",
    "jan_data.duration_min = jan_data.duration_min.apply(lambda td : float(td.total_seconds())/60)"
   ]
  },
  {
   "cell_type": "code",
   "execution_count": null,
   "id": "53880bc897446f97",
   "metadata": {},
   "outputs": [],
   "source": [
    "# filter out outliers\n",
    "jan_data = jan_data[(jan_data.duration_min >= 0) & (jan_data.duration_min <= 60)]\n",
    "jan_data = jan_data[(jan_data.passenger_count > 0) & (jan_data.passenger_count <= 8)]"
   ]
  },
  {
   "cell_type": "code",
   "execution_count": null,
   "id": "6081a7e81e9f56f",
   "metadata": {},
   "outputs": [],
   "source": [
    "jan_data.duration_min.hist()"
   ]
  },
  {
   "cell_type": "code",
   "execution_count": null,
   "id": "1c36e0ebfb0879ec",
   "metadata": {},
   "outputs": [],
   "source": [
    "# data labeling\n",
    "target = \"duration_min\"\n",
    "num_features = [\"passenger_count\", \"trip_distance\", \"fare_amount\", \"total_amount\"]\n",
    "cat_features = [\"PULocationID\", \"DOLocationID\"]"
   ]
  },
  {
   "cell_type": "code",
   "execution_count": null,
   "id": "553a23ed50b7c326",
   "metadata": {},
   "outputs": [],
   "source": [
    "jan_data.shape"
   ]
  },
  {
   "cell_type": "code",
   "execution_count": null,
   "id": "4b2d012fb9b1894a",
   "metadata": {},
   "outputs": [],
   "source": [
    "train_data = jan_data[:30000]\n",
    "val_data = jan_data[30000:]"
   ]
  },
  {
   "cell_type": "code",
   "execution_count": null,
   "id": "acbd0bcaea363591",
   "metadata": {},
   "outputs": [],
   "source": [
    "model = LinearRegression()"
   ]
  },
  {
   "cell_type": "code",
   "execution_count": null,
   "id": "2071678344a3f82e",
   "metadata": {},
   "outputs": [],
   "source": [
    "model.fit(train_data[num_features + cat_features], train_data[target])"
   ]
  },
  {
   "cell_type": "code",
   "execution_count": null,
   "id": "f2b35c8b807bbd0a",
   "metadata": {},
   "outputs": [],
   "source": [
    "train_preds = model.predict(train_data[num_features + cat_features])\n",
    "train_data['prediction'] = train_preds"
   ]
  },
  {
   "cell_type": "code",
   "execution_count": null,
   "id": "775faa558e6ed9f5",
   "metadata": {},
   "outputs": [],
   "source": [
    "val_preds = model.predict(val_data[num_features + cat_features])\n",
    "val_data['prediction'] = val_preds"
   ]
  },
  {
   "cell_type": "code",
   "execution_count": null,
   "id": "e675db84c123c9db",
   "metadata": {},
   "outputs": [],
   "source": [
    "print(mean_absolute_error(train_data.duration_min, train_data.prediction))\n",
    "print(mean_absolute_error(val_data.duration_min, val_data.prediction))"
   ]
  },
  {
   "cell_type": "markdown",
   "id": "594f99e8-3667-4108-adf3-d9509150924d",
   "metadata": {},
   "source": [
    "# Dump model and reference data"
   ]
  },
  {
   "cell_type": "code",
   "execution_count": null,
   "id": "b323d6bb-7cbc-4b0b-893c-88f9f1b54a31",
   "metadata": {},
   "outputs": [],
   "source": [
    "! mkdir models"
   ]
  },
  {
   "cell_type": "code",
   "execution_count": null,
   "id": "a41101a02592a969",
   "metadata": {},
   "outputs": [],
   "source": [
    "with open('models/lin_reg.bin', 'wb') as f_out:\n",
    "    dump(model, f_out)"
   ]
  },
  {
   "cell_type": "code",
   "execution_count": null,
   "id": "6ba1f803d2d9ddf7",
   "metadata": {},
   "outputs": [],
   "source": [
    "val_data.to_parquet('data/reference.parquet')"
   ]
  },
  {
   "cell_type": "markdown",
   "id": "c857c5683c59b65",
   "metadata": {},
   "source": [
    "# Evidently Report"
   ]
  },
  {
   "cell_type": "code",
   "execution_count": null,
   "id": "1e10db1a0250c1ab",
   "metadata": {},
   "outputs": [],
   "source": [
    "data_definition = DataDefinition(numerical_columns=num_features + ['prediction'], categorical_columns=cat_features)\n",
    "train_dataset = Dataset.from_pandas(\n",
    "    train_data,\n",
    "    data_definition\n",
    ")\n",
    "\n",
    "val_dataset = Dataset.from_pandas(\n",
    "    val_data,\n",
    "    data_definition\n",
    ")"
   ]
  },
  {
   "cell_type": "code",
   "execution_count": null,
   "id": "543ca2a7e4f00a45",
   "metadata": {},
   "outputs": [],
   "source": [
    "report = Report(metrics=[\n",
    "    ValueDrift(column='prediction'),\n",
    "    DriftedColumnsCount(),\n",
    "    MissingValueCount(column='prediction'),\n",
    "]\n",
    ")"
   ]
  },
  {
   "cell_type": "code",
   "execution_count": null,
   "id": "676afb69b6172332",
   "metadata": {},
   "outputs": [],
   "source": [
    "snapshot = report.run(reference_data=train_dataset, current_data=val_dataset)"
   ]
  },
  {
   "cell_type": "code",
   "execution_count": null,
   "id": "69ad038a3a95098a",
   "metadata": {},
   "outputs": [],
   "source": [
    "snapshot"
   ]
  },
  {
   "cell_type": "code",
   "execution_count": null,
   "id": "a9e2aa5ca9b496d4",
   "metadata": {},
   "outputs": [],
   "source": [
    "result = snapshot.dict()"
   ]
  },
  {
   "cell_type": "code",
   "execution_count": null,
   "id": "6e5035dd2c278a9a",
   "metadata": {},
   "outputs": [],
   "source": [
    "result"
   ]
  },
  {
   "cell_type": "code",
   "execution_count": null,
   "id": "e899f3602bfff467",
   "metadata": {},
   "outputs": [],
   "source": [
    "#prediction drift\n",
    "result['metrics'][0]['value']"
   ]
  },
  {
   "cell_type": "code",
   "execution_count": null,
   "id": "1259822acaefed1e",
   "metadata": {},
   "outputs": [],
   "source": [
    "#number of drifted columns\n",
    "result['metrics'][1]['value']['count']"
   ]
  },
  {
   "cell_type": "code",
   "execution_count": null,
   "id": "a3addf64d2dc04ae",
   "metadata": {},
   "outputs": [],
   "source": [
    "#share of missing values\n",
    "result['metrics'][2]['value']['count']"
   ]
  },
  {
   "cell_type": "markdown",
   "id": "b2f9038a218615f1",
   "metadata": {},
   "source": [
    "# Evidently Dashboard"
   ]
  },
  {
   "cell_type": "code",
   "execution_count": null,
   "id": "fb2023542b25fd91",
   "metadata": {},
   "outputs": [],
   "source": [
    "from evidently.presets import DataDriftPreset, DataSummaryPreset\n",
    "\n",
    "from evidently.ui.workspace import Workspace\n",
    "from evidently.sdk.panels import *\n",
    "from evidently.legacy.renderers.html_widgets import WidgetSize"
   ]
  },
  {
   "cell_type": "code",
   "execution_count": null,
   "id": "ad1e20608545b2ec",
   "metadata": {},
   "outputs": [],
   "source": [
    "ws = Workspace(\"workspace\")"
   ]
  },
  {
   "cell_type": "code",
   "execution_count": null,
   "id": "e953dfbe75da3c06",
   "metadata": {},
   "outputs": [],
   "source": [
    "project = ws.create_project(\"NYC Taxi Data Quality Project\")\n",
    "project.description = \"My project description\"\n",
    "project.save()"
   ]
  },
  {
   "cell_type": "code",
   "execution_count": null,
   "id": "b50a04f69b18b46e",
   "metadata": {},
   "outputs": [],
   "source": [
    "regular_report = Report(\n",
    "    metrics=[\n",
    "        DataSummaryPreset()\n",
    "    ],\n",
    ")\n",
    "\n",
    "data = Dataset.from_pandas(\n",
    "    val_data.loc[val_data.lpep_pickup_datetime.between('2022-01-28', '2022-01-29', inclusive=\"left\")],\n",
    "    data_definition=data_definition,\n",
    ")\n",
    "\n",
    "regular_snapshot = regular_report.run(current_data=data, timestamp=datetime.datetime(2022,1,28))\n",
    "\n",
    "regular_snapshot"
   ]
  },
  {
   "cell_type": "code",
   "execution_count": null,
   "id": "11d1f0f5a3a478a1",
   "metadata": {},
   "outputs": [],
   "source": [
    "ws.add_run(project.id, regular_snapshot)"
   ]
  },
  {
   "cell_type": "markdown",
   "id": "15c502ed-a2d6-4de9-866a-5eca46c354ce",
   "metadata": {},
   "source": [
    "note: To view a report please run \"evidently ui\" command in a separate tab in your terminal."
   ]
  },
  {
   "cell_type": "code",
   "execution_count": null,
   "id": "c9ffc785f07a3b43",
   "metadata": {},
   "outputs": [],
   "source": [
    "#configure the dashboard\n",
    "project.dashboard.add_panel(\n",
    "    text_panel(title=\"NYC taxi data dashboard\")\n",
    ")\n",
    "\n",
    "project.dashboard.add_panel(\n",
    "    bar_plot_panel(\n",
    "        title=\"Inference Count\",\n",
    "        values=[\n",
    "            PanelMetric(\n",
    "                metric=\"RowCount\",\n",
    "                legend=\"count\",\n",
    "            ),\n",
    "        ],\n",
    "        size=\"half\",\n",
    "    ),\n",
    ")\n",
    "\n",
    "project.dashboard.add_panel(\n",
    "    line_plot_panel(\n",
    "        title=\"Number of Missing Values\",\n",
    "        values=[\n",
    "            PanelMetric(\n",
    "                metric=\"DatasetMissingValueCount\",\n",
    "                legend=\"count\"\n",
    "            ),\n",
    "        ],\n",
    "        size=\"half\",\n",
    "    ),\n",
    ")\n",
    "\n",
    "project.save()"
   ]
  },
  {
   "cell_type": "markdown",
   "id": "e57e1bcc-4561-4e23-829b-3a635c989b2b",
   "metadata": {},
   "source": [
    "To view a dashboard please run \"evidently ui\" command in a separate tab in your terminal."
   ]
  },
  {
   "cell_type": "code",
   "execution_count": null,
   "id": "ef86fd9791faf042",
   "metadata": {},
   "outputs": [],
   "source": [
    "regular_report = Report(\n",
    "    metrics=[\n",
    "        DataSummaryPreset()\n",
    "    ],\n",
    ")\n",
    "\n",
    "data = Dataset.from_pandas(\n",
    "    val_data.loc[val_data.lpep_pickup_datetime.between('2022-01-29', '2022-01-30', inclusive=\"left\")],\n",
    "    data_definition=data_definition,\n",
    ")\n",
    "\n",
    "regular_run = regular_report.run(current_data=data, timestamp=datetime.datetime(2022,1,29))\n",
    "\n",
    "regular_run"
   ]
  },
  {
   "cell_type": "code",
   "execution_count": null,
   "id": "42a513dc53964471",
   "metadata": {},
   "outputs": [],
   "source": [
    "ws.add_run(project.id, regular_run)"
   ]
  },
  {
   "cell_type": "code",
   "execution_count": null,
   "id": "7da8c7d2911c5f1e",
   "metadata": {},
   "outputs": [],
   "source": []
  }
 ],
 "metadata": {
  "kernelspec": {
   "display_name": "05-monitoring",
   "language": "python",
   "name": "python3"
  },
  "language_info": {
   "codemirror_mode": {
    "name": "ipython",
    "version": 3
   },
   "file_extension": ".py",
   "mimetype": "text/x-python",
   "name": "python",
   "nbconvert_exporter": "python",
   "pygments_lexer": "ipython3",
   "version": "3.12.1"
  }
 },
 "nbformat": 4,
 "nbformat_minor": 5
}
